{
 "cells": [
  {
   "cell_type": "markdown",
   "metadata": {},
   "source": [
    "1. Print out your favorite color and write comment about what you are doing above the code."
   ]
  },
  {
   "cell_type": "code",
   "execution_count": 7,
   "metadata": {},
   "outputs": [
    {
     "name": "stdout",
     "output_type": "stream",
     "text": [
      "your favorite color\n"
     ]
    }
   ],
   "source": [
    "# using the print command\n",
    "print (\"your favorite color\")"
   ]
  },
  {
   "cell_type": "markdown",
   "metadata": {},
   "source": [
    "2. Print the sumation of numbers 1 through 10"
   ]
  },
  {
   "cell_type": "code",
   "execution_count": 13,
   "metadata": {},
   "outputs": [
    {
     "name": "stdout",
     "output_type": "stream",
     "text": [
      "55\n"
     ]
    }
   ],
   "source": [
    "# using the print command to type out a math equation\n",
    "\n",
    "print (1 + 2 + 3 + 4 + 5 + 6 + 7 + 8 + 9 + 10)"
   ]
  },
  {
   "cell_type": "markdown",
   "metadata": {},
   "source": [
    "3. Print what 2 to the 8th power is."
   ]
  },
  {
   "cell_type": "code",
   "execution_count": 6,
   "metadata": {},
   "outputs": [
    {
     "name": "stdout",
     "output_type": "stream",
     "text": [
      "256\n"
     ]
    }
   ],
   "source": [
    "# Adding an extra * means it is to the power\n",
    "print (2**8)"
   ]
  },
  {
   "cell_type": "markdown",
   "metadata": {},
   "source": [
    "4. Print the remainder of 100 divided by 11. "
   ]
  },
  {
   "cell_type": "code",
   "execution_count": 5,
   "metadata": {},
   "outputs": [
    {
     "name": "stdout",
     "output_type": "stream",
     "text": [
      "1\n"
     ]
    }
   ],
   "source": [
    "# % is the \"modulo operator\", which gets the remainder of the problem\n",
    "\n",
    "print (100 % 11)"
   ]
  },
  {
   "cell_type": "markdown",
   "metadata": {},
   "source": [
    "5. What is the result of adding strings: 20, 8, 77?"
   ]
  },
  {
   "cell_type": "code",
   "execution_count": 47,
   "metadata": {},
   "outputs": [
    {
     "name": "stdout",
     "output_type": "stream",
     "text": [
      "20877\n"
     ]
    }
   ],
   "source": [
    "# Because they are strings, they are simply placed next to each other instead of being added together\n",
    "\n",
    "print ( \"20\" + \"8\" + \"77\")"
   ]
  },
  {
   "cell_type": "markdown",
   "metadata": {},
   "source": [
    "6. Print out 100 divided by 5"
   ]
  },
  {
   "cell_type": "code",
   "execution_count": 6,
   "metadata": {},
   "outputs": [
    {
     "name": "stdout",
     "output_type": "stream",
     "text": [
      "20.0\n"
     ]
    }
   ],
   "source": [
    "print (100 / 5)"
   ]
  },
  {
   "cell_type": "markdown",
   "metadata": {},
   "source": [
    "7. What is the difference (subtraction) between 10/4 and 10//4?  Print out the result"
   ]
  },
  {
   "cell_type": "code",
   "execution_count": 2,
   "metadata": {},
   "outputs": [
    {
     "name": "stdout",
     "output_type": "stream",
     "text": [
      "0.5\n"
     ]
    }
   ],
   "source": [
    "# / is division\n",
    "# // is floor division\n",
    "\n",
    "num1 = 10 / 4\n",
    "num2 = 10 // 4\n",
    "\n",
    "# it subtracts the two numbers from each other to get the differencebetween them\n",
    "print ( num1 - num2 )"
   ]
  },
  {
   "cell_type": "markdown",
   "metadata": {},
   "source": [
    "8. Create a variable called height and store your height value there.\n",
    "Print a sentence describing your height and use the variable in the sentence as well."
   ]
  },
  {
   "cell_type": "code",
   "execution_count": 18,
   "metadata": {},
   "outputs": [
    {
     "name": "stdout",
     "output_type": "stream",
     "text": [
      "My height is 5'5.\n"
     ]
    }
   ],
   "source": [
    "# I created a variable called \"height\", and then set it to my height. I then inputted it into a print message, suing + symbols to attach them to the same print message.\n",
    "\n",
    "height = \"5'5\"\n",
    "\n",
    "print (\"My height is \" + height + \".\")"
   ]
  },
  {
   "cell_type": "markdown",
   "metadata": {},
   "source": [
    "9. Print the same information as exercise 8 using a formatted string. "
   ]
  },
  {
   "cell_type": "code",
   "execution_count": 16,
   "metadata": {},
   "outputs": [
    {
     "name": "stdout",
     "output_type": "stream",
     "text": [
      "My height is 5'5.\n"
     ]
    }
   ],
   "source": [
    "# The f\" strings allows variable values to be added to a string\n",
    "print (f\"My height is {height}.\" )"
   ]
  },
  {
   "cell_type": "markdown",
   "metadata": {},
   "source": [
    "10. Use two different (single and double) quotes in a string to print out a sentence"
   ]
  },
  {
   "cell_type": "code",
   "execution_count": 4,
   "metadata": {},
   "outputs": [
    {
     "name": "stdout",
     "output_type": "stream",
     "text": [
      "\"Text here,\" followed by other text.\n"
     ]
    }
   ],
   "source": [
    "print ('\"Text here,\" followed by other text.')"
   ]
  },
  {
   "cell_type": "markdown",
   "metadata": {},
   "source": [
    "11. Print out Hello World! 7 times each on a new line using only one line of code."
   ]
  },
  {
   "cell_type": "code",
   "execution_count": null,
   "metadata": {},
   "outputs": [],
   "source": [
    "# I used \\n to put each \"Hello World!\" onto a seperate line\n",
    "# Multiplying the string allowed it to be said multiple times\n",
    "\n",
    "message = \"Hello World! \"\n",
    "print (\"\\nHello World!\" * 7)"
   ]
  },
  {
   "cell_type": "markdown",
   "metadata": {},
   "source": [
    "12. Write a code to get two integers from a user. Then print out their summation, subtraction, multiplication, and division."
   ]
  },
  {
   "cell_type": "code",
   "execution_count": 2,
   "metadata": {},
   "outputs": [
    {
     "name": "stdout",
     "output_type": "stream",
     "text": [
      "Enter the first number:5\n",
      "Enter the second number:6\n"
     ]
    }
   ],
   "source": [
    "nu1 = int(input(\"Enter the first number:\"))\n",
    "nu2 = int(input(\"Enter the second number:\"))"
   ]
  },
  {
   "cell_type": "code",
   "execution_count": 9,
   "metadata": {},
   "outputs": [
    {
     "name": "stdout",
     "output_type": "stream",
     "text": [
      "Summation: 5 + 6 = 11\n",
      "Subtraction: 6 - 5 = 1\n",
      "Multiplaction: 5 * 6 = 30\n",
      "Division: 6 / 5 = 1.2\n"
     ]
    }
   ],
   "source": [
    "print (f\"Summation: {nu1} + {nu2} = {nu1 + nu2}\")\n",
    "print (f\"Subtraction: {nu2} - {nu1} = {nu2 - nu1}\")\n",
    "print (f\"Multiplaction: {nu1} * {nu2} = {nu1 * nu2}\")\n",
    "print (f\"Division: {nu2} / {nu1} = {nu2 / nu1}\")"
   ]
  },
  {
   "cell_type": "markdown",
   "metadata": {},
   "source": [
    "13. You and your collegue have been tasked to write a code to get 5 numbers from a user and then print out their summation and average in a formatted string.  Your partner wrote codes below.  Now it is up to you to fix all errors."
   ]
  },
  {
   "cell_type": "code",
   "execution_count": null,
   "metadata": {},
   "outputs": [],
   "source": [
    "prompt = f\"Enter a number: \"\n",
    "\n",
    "numb1 = int(input(''Enter a number: \"))\n",
    "numb2 = int(input(\"Enter a number: \"))\n",
    "numb1 = int(input(\"Enter a number: \"))\n",
    "numb2 = int(input(\"Enter a number: \"))\n",
    "num85 = int(input(\"Enter a number: \"))\n",
    "\n",
    "total = numb1 + numb2 + numb3 + numb4 + numb5\n",
    "avg = total // 5\n",
    "\n",
    "print(\"{numb1} + {numb2} + {numb3} + {numb4} + {numb5} = {total}\")\n",
    "print(\"average is {total}')"
   ]
  },
  {
   "cell_type": "code",
   "execution_count": 10,
   "metadata": {},
   "outputs": [
    {
     "name": "stdout",
     "output_type": "stream",
     "text": [
      "Enter a number: 1\n",
      "Enter a number: 2\n",
      "Enter a number: 3\n",
      "Enter a number: 4\n",
      "Enter a number: 5\n",
      "1 + 2 + 3 + 4 + 5 = 15\n",
      "average is 3.0\n"
     ]
    }
   ],
   "source": [
    "prompt = \"Enter a number: \"\n",
    "\n",
    "# use \"prompt\" instead of the text for more ease\n",
    "numb1 = int(input(prompt))\n",
    "numb2 = int(input(prompt))\n",
    "numb3 = int(input(prompt))\n",
    "numb4 = int(input(prompt))\n",
    "numb5 = int(input(prompt))\n",
    "\n",
    "total = numb1 + numb2 + numb3 + numb4 + numb5\n",
    "avg = int(total) / 5\n",
    "\n",
    "print ( f\"{numb1} + {numb2} + {numb3} + {numb4} + {numb5} = {total}\" )\n",
    "print (f\"average is {avg}\" )"
   ]
  },
  {
   "cell_type": "markdown",
   "metadata": {},
   "source": [
    "14. You and your partner have been assigned to a project to write a program to calculate the amount of runoff rain on a roof from any given rainfall.  \n",
    "\n",
    "You and your partner have figured out that to calculate the runoff from any given rainfall. \n",
    "\n",
    "You need to take the dimensions of the footprint of the roof and <b>convert them to inches</b> (ex - a 50' x 20' roof is 600\" x 240\"). The dimensions should be user submitted. \n",
    "\n",
    "Then, multiply the roof dimensions by the number of inches of rainfall. As an example, 600\" x 240\" x 1\" = 144,000 cubic inches of water for an inch of rainfall. Finally, divide that result by 231 to get the number of gallons (because 1 gallon = 231 cubic inches; 144,000/231 = 623.38).\n",
    "\n",
    "Your partner started coding before getting sick and it is up to you to finish the program."
   ]
  },
  {
   "cell_type": "code",
   "execution_count": 1,
   "metadata": {},
   "outputs": [
    {
     "name": "stdout",
     "output_type": "stream",
     "text": [
      "\n",
      "Rainfall Calculation ***\n",
      "\n"
     ]
    },
    {
     "ename": "ValueError",
     "evalue": "invalid literal for int() with base 10: \"What's roof's width in foot? \"",
     "output_type": "error",
     "traceback": [
      "\u001b[1;31m---------------------------------------------------------------------------\u001b[0m",
      "\u001b[1;31mValueError\u001b[0m                                Traceback (most recent call last)",
      "\u001b[1;32m~\\AppData\\Local\\Temp\\ipykernel_39236\\2822790410.py\u001b[0m in \u001b[0;36m<module>\u001b[1;34m\u001b[0m\n\u001b[0;32m      1\u001b[0m \u001b[0mprint\u001b[0m\u001b[1;33m(\u001b[0m\u001b[1;34m\"\\nRainfall Calculation ***\\n\"\u001b[0m\u001b[1;33m)\u001b[0m\u001b[1;33m\u001b[0m\u001b[1;33m\u001b[0m\u001b[0m\n\u001b[0;32m      2\u001b[0m \u001b[1;33m\u001b[0m\u001b[0m\n\u001b[1;32m----> 3\u001b[1;33m \u001b[0mwidth\u001b[0m \u001b[1;33m=\u001b[0m \u001b[0mint\u001b[0m\u001b[1;33m(\u001b[0m\u001b[1;34m\"What's roof's width in foot? \"\u001b[0m\u001b[1;33m)\u001b[0m\u001b[1;33m\u001b[0m\u001b[1;33m\u001b[0m\u001b[0m\n\u001b[0m\u001b[0;32m      4\u001b[0m \u001b[0mlength\u001b[0m \u001b[1;33m=\u001b[0m \u001b[0mint\u001b[0m\u001b[1;33m(\u001b[0m\u001b[1;34m\"What's roof's length in foot? \"\u001b[0m\u001b[1;33m)\u001b[0m\u001b[1;33m\u001b[0m\u001b[1;33m\u001b[0m\u001b[0m\n\u001b[0;32m      5\u001b[0m \u001b[0mrain\u001b[0m \u001b[1;33m=\u001b[0m \u001b[0mint\u001b[0m\u001b[1;33m(\u001b[0m\u001b[1;34m\"How much did it rain? \"\u001b[0m\u001b[1;33m)\u001b[0m\u001b[1;33m\u001b[0m\u001b[1;33m\u001b[0m\u001b[0m\n",
      "\u001b[1;31mValueError\u001b[0m: invalid literal for int() with base 10: \"What's roof's width in foot? \""
     ]
    }
   ],
   "source": [
    "print(\"\\nRainfall Calculation ***\\n\")\n",
    "\n",
    "width = int(\"What's roof's width in foot? \")\n",
    "length = int(\"What's roof's length in foot? \")\n",
    "rain = int(\"How much did it rain? \")\n",
    "\n",
    "\n",
    "area = width x length x rain\n",
    "\n",
    "\n"
   ]
  },
  {
   "cell_type": "code",
   "execution_count": 2,
   "metadata": {},
   "outputs": [
    {
     "name": "stdout",
     "output_type": "stream",
     "text": [
      "\n",
      "Rainfall Calculation\n",
      "\n",
      "What is the roof's width in feet? 7\n",
      "What is the roof's length in feet? 8\n",
      "How many inches did it rain? 4\n",
      "\n",
      "The total amount of runoff rain from the roof is 139.64 gallons.\n"
     ]
    }
   ],
   "source": [
    "print(\"\\nRainfall Calculation\\n\")\n",
    "\n",
    "width = float(input(\"What is the roof's width in feet? \"))\n",
    "length = float(input(\"What is the roof's length in feet? \"))\n",
    "rain = float(input(\"How many inches did it rain? \"))\n",
    "\n",
    "# Because we are asking for feet and inches, we have to convert the feet into inches by multiplyng by 12\n",
    "\n",
    "width = (width * 12)\n",
    "length = (length * 12)\n",
    "\n",
    "rainfall = (width) * (length) * (rain)\n",
    "gallons = rainfall / 231\n",
    "\n",
    "print ( f\"\\nThe total amount of runoff rain from the roof is {gallons:.2f} gallons.\")\n"
   ]
  },
  {
   "cell_type": "markdown",
   "metadata": {},
   "source": [
    "15. A program is required to get a customer’s name, a purchase amount and a discount rate (in %). The program must compute the discount amount, sales tax (6%) and the total amount due. Using one print statement, print the customer’s name, purchase amount, discount amount, sales tax and total amount due in friendly format."
   ]
  },
  {
   "cell_type": "code",
   "execution_count": 4,
   "metadata": {},
   "outputs": [
    {
     "name": "stdout",
     "output_type": "stream",
     "text": [
      "Nme: te\n",
      "Enter purchase amount: 100\n",
      "Enter discount rate: 2\n"
     ]
    }
   ],
   "source": [
    "name = input(\"Nme: \") \n",
    "purchaseAmount = int(input(\"Enter purchase amount: \"))\n",
    "discountRate = int(input(\"Enter discount rate: \"))\n",
    "\n",
    "discountAmount = .01 * discountRate * purchaseAmount\n",
    "salesTax = (.06 * (purchaseAmount - discountAmount))\n",
    "totalAmount = salesTax + purchaseAmount - discountAmount"
   ]
  },
  {
   "cell_type": "code",
   "execution_count": 8,
   "metadata": {},
   "outputs": [
    {
     "name": "stdout",
     "output_type": "stream",
     "text": [
      "\n",
      "Amount:\t\t$100.00\n",
      "Discount:\t$2.00\n",
      "Sales Tax:\t$5.88\n",
      "Total:\t\t$103.88\n"
     ]
    }
   ],
   "source": [
    "print(f\"\\nAmount:\\t\\t${purchaseAmount:.2f}\")\n",
    "print(f\"Discount:\\t${discountRate:.2f}\")\n",
    "print(f\"Sales Tax:\\t${salesTax:.2f}\")\n",
    "print(f\"Total:\\t\\t${totalAmount:.2f}\")"
   ]
  }
 ],
 "metadata": {
  "kernelspec": {
   "display_name": "Python 3 (ipykernel)",
   "language": "python",
   "name": "python3"
  },
  "language_info": {
   "codemirror_mode": {
    "name": "ipython",
    "version": 3
   },
   "file_extension": ".py",
   "mimetype": "text/x-python",
   "name": "python",
   "nbconvert_exporter": "python",
   "pygments_lexer": "ipython3",
   "version": "3.9.13"
  }
 },
 "nbformat": 4,
 "nbformat_minor": 4
}
